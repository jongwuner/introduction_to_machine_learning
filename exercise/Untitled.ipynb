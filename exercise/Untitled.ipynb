{
 "cells": [
  {
   "cell_type": "markdown",
   "metadata": {},
   "source": [
    "### 결정 트리의 앙상블"
   ]
  },
  {
   "cell_type": "markdown",
   "metadata": {},
   "source": [
    "앙상블은 여러 머신러닝 모델을 연결하여, 더 강력한 모델을 만드는 기법입니다. 머신러닝에 이런 종류의 모델이 많지만 그 중 두 앙상블 모델이 분류와 회귀에서 효과적이라고 입증이 되었다. "
   ]
  },
  {
   "cell_type": "markdown",
   "metadata": {},
   "source": [
    "`랜덤 포레스트`와 `그래디언트 부스팅` 결정트리는 둘다 모델을 구성하는 기본 요소로 결정 트리를 사용한다. "
   ]
  },
  {
   "cell_type": "markdown",
   "metadata": {},
   "source": [
    "#### 랜덤 포레스트"
   ]
  },
  {
   "cell_type": "markdown",
   "metadata": {},
   "source": [
    "결정트리는 주로 훈련 데이터에 과대적합되는 경향이 있다. 그런데 랜덤포레스트를 활용하면 이런 현상을 방지할 수 있다. 랜덤포레스트는 기본적으로 조금씩 다른 여러 결정 트리의 묶음이다. 랜덤 포레스트의 아이디어는 각 트리는 비교적 예측을 잘 할 수 있지만, 데이터의 일부에 과대적합하는 경향을 가진다는 데 기초합니다. 예컨대 잘 작동하되 서로 다른 방향으로 과대적합된 트리를 많이 만들면 그 결과를 평균냄으로써 과대적합된 양을 줄일 수 있습니다. 이렇게 하면 트리 모델의 예측 성능이 유지되면서 과대적합이 줄어드는 것이 수학적으로 증명되었습니다.   "
   ]
  },
  {
   "cell_type": "markdown",
   "metadata": {},
   "source": [
    "이런 전략을 구현하려면 결정트리를 많이 만들어야 한다. 각각의 트리는 타깃 예측을 잘 해야하고 다른 트리와는 구별이 되어야 합니다. 랜덤 포레스트는 이름에서도 알 수 있다 시피 트리들이 달라지도록 트리 생성 시 `무작위성` 주입을 한다. 랜덤포레스트에서 트리를 랜덤하게 만드는 방법은 두 가지입니다. 트리를 만들 때, 사용하는 데이터 포인트를 무작위로 선택하는 방법과 분할 테스트에서 특성을 무작위로 선택하는 방법입니다. 이 방식들을 자세히 살펴보겠습니다.  "
   ]
  },
  {
   "cell_type": "markdown",
   "metadata": {},
   "source": [
    "#### 랜덤 포레스트 구축 "
   ]
  },
  {
   "cell_type": "markdown",
   "metadata": {},
   "source": [
    "랜덤 포레스트 모델을 만들려면 생성할 트리의 개수가 정해져야 한다. (RandomForest Regressor나 RandomForestClassifier의 n_estimators 매개변수). 여기에서는 트리가 10개 필요하다라고 가정하겠습니다. 이 트리들은 완전히 독립적으로 만들어져야 하므로 알고리즘은 각 트리가 고유하게 만들어지도록 무작위하게 선택을 합니다. \n",
    "\n",
    "\n",
    "트리를 만들기 위해 먼저 데이터의 `부트스트랩 샘플`을 생성합니다. 다시 말해 n_samples개의 데이터 포인트 중에서 무작위로 데이터를 n_samples 횟수만큼 반복 추출합니다. (한 샘플이 여러 번 중복 추출될 수 있습니다) 이 데이터 셋은 원래 데이터 셋 크기와 같지만 어떤 데이터 포인트는 누락될 수 있고 어떤 데이터 포인트는 중복되어 들어올 수 있습니다.  "
   ]
  },
  {
   "cell_type": "code",
   "execution_count": null,
   "metadata": {},
   "outputs": [],
   "source": []
  }
 ],
 "metadata": {
  "kernelspec": {
   "display_name": "Python 3",
   "language": "python",
   "name": "python3"
  },
  "language_info": {
   "codemirror_mode": {
    "name": "ipython",
    "version": 3
   },
   "file_extension": ".py",
   "mimetype": "text/x-python",
   "name": "python",
   "nbconvert_exporter": "python",
   "pygments_lexer": "ipython3",
   "version": "3.7.6"
  }
 },
 "nbformat": 4,
 "nbformat_minor": 4
}
